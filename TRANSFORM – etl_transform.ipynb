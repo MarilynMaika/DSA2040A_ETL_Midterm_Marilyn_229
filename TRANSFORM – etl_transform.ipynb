{
 "cells": [
  {
   "cell_type": "code",
   "execution_count": 147,
   "id": "733cf284",
   "metadata": {},
   "outputs": [],
   "source": [
    "#importing necessary libraries\n",
    "import pandas as pd\n",
    "import numpy as np\n",
    "import matplotlib.pyplot as plt\n",
    "import seaborn as sns"
   ]
  },
  {
   "cell_type": "markdown",
   "id": "b8172588",
   "metadata": {},
   "source": [
    "## Importing the raw dataset and incremental data set"
   ]
  },
  {
   "cell_type": "code",
   "execution_count": 148,
   "id": "4e0900df",
   "metadata": {},
   "outputs": [],
   "source": [
    "raw_data = pd.read_csv('raw_data.csv')\n",
    "incremental_data = pd.read_csv('incremental_data.csv')"
   ]
  },
  {
   "cell_type": "code",
   "execution_count": 149,
   "id": "2cb01947",
   "metadata": {},
   "outputs": [
    {
     "name": "stdout",
     "output_type": "stream",
     "text": [
      "Duplicate rows in raw_data:\n",
      "   order_id customer_name product  quantity  unit_price  order_date region\n",
      "5         4           Eve  Laptop       2.0       750.0  2024-01-07   West\n",
      "Duplicate rows in incremental_data:\n",
      "Empty DataFrame\n",
      "Columns: [order_id, customer_name, product, quantity, unit_price, order_date, region]\n",
      "Index: []\n"
     ]
    }
   ],
   "source": [
    "#print duplicate rows in raw_data\n",
    "duplicate_rows_raw = raw_data[raw_data.duplicated()]\n",
    "#print duplicate rows in incremental_data\n",
    "duplicate_rows_incremental = incremental_data[incremental_data.duplicated()]\n",
    "# Display duplicate rows\n",
    "print(\"Duplicate rows in raw_data:\")\n",
    "print(duplicate_rows_raw)\n",
    "print(\"Duplicate rows in incremental_data:\")\n",
    "print(duplicate_rows_incremental)\n",
    "\n"
   ]
  },
  {
   "cell_type": "code",
   "execution_count": null,
   "id": "a82f1274",
   "metadata": {},
   "outputs": [],
   "source": [
    "# Cleaning\n",
    "raw_data.drop_duplicates(inplace=True)\n",
    "incremental_data.drop_duplicates(inplace=True)\n"
   ]
  },
  {
   "cell_type": "markdown",
   "id": "a6b623f3",
   "metadata": {},
   "source": [
    "- checking data frame after dropping duplicates"
   ]
  },
  {
   "cell_type": "code",
   "execution_count": 179,
   "id": "63d36ae6",
   "metadata": {},
   "outputs": [
    {
     "name": "stdout",
     "output_type": "stream",
     "text": [
      "Duplicate rows in raw_data:\n",
      "Empty DataFrame\n",
      "Columns: [order_id, customer_name, product, quantity, unit_price, order_date, region, total_price, order_month, customer_tier]\n",
      "Index: []\n",
      "Duplicate rows in incremental_data:\n",
      "Empty DataFrame\n",
      "Columns: [order_id, customer_name, product, quantity, unit_price, order_date, region, total_price, order_month, customer_tier]\n",
      "Index: []\n"
     ]
    }
   ],
   "source": [
    "#print duplicate rows in raw_data\n",
    "duplicate_rows_nraw = raw_data[raw_data.duplicated()]\n",
    "#print duplicate rows in incremental_data\n",
    "duplicate_rows_nincremental = incremental_data[incremental_data.duplicated()]\n",
    "# Display duplicate rows\n",
    "print(\"Duplicate rows in raw_data:\")\n",
    "print(duplicate_rows_nraw)\n",
    "print(\"Duplicate rows in incremental_data:\")\n",
    "print(duplicate_rows_nincremental)"
   ]
  },
  {
   "cell_type": "markdown",
   "id": "42c7aca2",
   "metadata": {},
   "source": [
    "## Handling missing values"
   ]
  },
  {
   "cell_type": "code",
   "execution_count": 151,
   "id": "a8c4ee68",
   "metadata": {},
   "outputs": [
    {
     "name": "stdout",
     "output_type": "stream",
     "text": [
      "order_id          0\n",
      "customer_name     1\n",
      "product           0\n",
      "quantity         26\n",
      "unit_price       35\n",
      "order_date        1\n",
      "region           25\n",
      "dtype: int64\n",
      "order_id         0\n",
      "customer_name    6\n",
      "product          0\n",
      "quantity         4\n",
      "unit_price       0\n",
      "order_date       0\n",
      "region           2\n",
      "dtype: int64\n"
     ]
    }
   ],
   "source": [
    "print(raw_data.isnull().sum())\n",
    "print(incremental_data.isnull().sum())"
   ]
  },
  {
   "cell_type": "markdown",
   "id": "f3cd555b",
   "metadata": {},
   "source": [
    "- filling missing values of unit price and quantity with the mean because this is the most appropriate for this data type"
   ]
  },
  {
   "cell_type": "code",
   "execution_count": 152,
   "id": "d67dd5ae",
   "metadata": {},
   "outputs": [],
   "source": [
    "raw_data['unit_price'].fillna(raw_data['unit_price'].mean(), inplace=True)\n",
    "incremental_data['unit_price'].fillna(incremental_data['unit_price'].mean(), inplace=True)\n",
    "\n"
   ]
  },
  {
   "cell_type": "code",
   "execution_count": 153,
   "id": "800e3e0b",
   "metadata": {},
   "outputs": [],
   "source": [
    "#filling missing values of quantity with the mean\n",
    "raw_data['quantity'].fillna(raw_data['quantity'].mean(), inplace=True)\n",
    "incremental_data['quantity'].fillna(incremental_data['quantity'].mean(), inplace=True)"
   ]
  },
  {
   "cell_type": "code",
   "execution_count": 154,
   "id": "9be13d36",
   "metadata": {},
   "outputs": [],
   "source": [
    "#filling missing values in the region column with the mode\n",
    "raw_data['region'].fillna(raw_data['region'].mode()[0], inplace=True)   \n",
    "incremental_data['region'].fillna(incremental_data['region'].mode()[0], inplace=True)"
   ]
  },
  {
   "cell_type": "markdown",
   "id": "2a281982",
   "metadata": {},
   "source": [
    "- Missing values in the customer name column of both data sets accounts for <2% of the data sets respectively hene dropping them won'taffect the analysis"
   ]
  },
  {
   "cell_type": "code",
   "execution_count": 155,
   "id": "6e25add6",
   "metadata": {},
   "outputs": [],
   "source": [
    "#drop rows with missing values in custommer_name\n",
    "raw_data.dropna(subset=['customer_name'], inplace=True)\n",
    "incremental_data.dropna(subset=['customer_name'], inplace=True)"
   ]
  },
  {
   "cell_type": "markdown",
   "id": "1a283d8d",
   "metadata": {},
   "source": [
    "- flling missing values in the order_date column with the mode"
   ]
  },
  {
   "cell_type": "code",
   "execution_count": 156,
   "id": "f6cfb73d",
   "metadata": {},
   "outputs": [],
   "source": [
    "raw_data['order_date'].fillna(raw_data['order_date'].mode()[0], inplace=True)"
   ]
  },
  {
   "cell_type": "markdown",
   "id": "90ba78e9",
   "metadata": {},
   "source": [
    "- checking for missing values again"
   ]
  },
  {
   "cell_type": "code",
   "execution_count": 157,
   "id": "2c7444b7",
   "metadata": {},
   "outputs": [
    {
     "name": "stdout",
     "output_type": "stream",
     "text": [
      "order_id         0\n",
      "customer_name    0\n",
      "product          0\n",
      "quantity         0\n",
      "unit_price       0\n",
      "order_date       0\n",
      "region           0\n",
      "dtype: int64\n",
      "order_id         0\n",
      "customer_name    0\n",
      "product          0\n",
      "quantity         0\n",
      "unit_price       0\n",
      "order_date       0\n",
      "region           0\n",
      "dtype: int64\n"
     ]
    }
   ],
   "source": [
    "print(raw_data.isnull().sum())\n",
    "print(incremental_data.isnull().sum())"
   ]
  },
  {
   "cell_type": "markdown",
   "id": "e270e647",
   "metadata": {},
   "source": [
    "## Structural Transformation"
   ]
  },
  {
   "cell_type": "code",
   "execution_count": 158,
   "id": "28075537",
   "metadata": {},
   "outputs": [
    {
     "name": "stdout",
     "output_type": "stream",
     "text": [
      "order_id           int64\n",
      "customer_name     object\n",
      "product           object\n",
      "quantity         float64\n",
      "unit_price       float64\n",
      "order_date        object\n",
      "region            object\n",
      "dtype: object\n",
      "order_id           int64\n",
      "customer_name     object\n",
      "product           object\n",
      "quantity         float64\n",
      "unit_price       float64\n",
      "order_date        object\n",
      "region            object\n",
      "dtype: object\n"
     ]
    }
   ],
   "source": [
    "#checking the data types of the columns\n",
    "print(raw_data.dtypes)\n",
    "print(incremental_data.dtypes)"
   ]
  },
  {
   "cell_type": "markdown",
   "id": "c0884702",
   "metadata": {},
   "source": [
    "#### changing the data types for each column to the appropraite data type for easy analysis"
   ]
  },
  {
   "cell_type": "code",
   "execution_count": 159,
   "id": "66b63466",
   "metadata": {},
   "outputs": [],
   "source": [
    "# Converting order_date to datetime format\n",
    "raw_data['order_date'] = pd.to_datetime(raw_data['order_date'])\n",
    "incremental_data['order_date'] = pd.to_datetime(incremental_data['order_date'])\n"
   ]
  },
  {
   "cell_type": "code",
   "execution_count": 160,
   "id": "ad127cd0",
   "metadata": {},
   "outputs": [],
   "source": [
    "# converting the regional column to categorical data type\n",
    "raw_data['region'] = raw_data['region'].astype('category')\n",
    "incremental_data['region'] = incremental_data['region'].astype('category')"
   ]
  },
  {
   "cell_type": "code",
   "execution_count": 161,
   "id": "3e4fe73f",
   "metadata": {},
   "outputs": [],
   "source": [
    "# changing the order_id column to string data type\n",
    "raw_data['order_id'] = raw_data['order_id'].astype(str) \n",
    "incremental_data['order_id'] = incremental_data['order_id'].astype(str)"
   ]
  },
  {
   "cell_type": "markdown",
   "id": "a8710d61",
   "metadata": {},
   "source": [
    "- Data types after conversions"
   ]
  },
  {
   "cell_type": "code",
   "execution_count": 162,
   "id": "477c19c2",
   "metadata": {},
   "outputs": [
    {
     "name": "stdout",
     "output_type": "stream",
     "text": [
      "order_id                 object\n",
      "customer_name            object\n",
      "product                  object\n",
      "quantity                float64\n",
      "unit_price              float64\n",
      "order_date       datetime64[ns]\n",
      "region                 category\n",
      "dtype: object\n",
      "order_id                 object\n",
      "customer_name            object\n",
      "product                  object\n",
      "quantity                float64\n",
      "unit_price              float64\n",
      "order_date       datetime64[ns]\n",
      "region                 category\n",
      "dtype: object\n"
     ]
    }
   ],
   "source": [
    "\n",
    "print(raw_data.dtypes)\n",
    "print(incremental_data.dtypes)"
   ]
  },
  {
   "cell_type": "code",
   "execution_count": 163,
   "id": "47c73fa1",
   "metadata": {},
   "outputs": [
    {
     "data": {
      "application/vnd.microsoft.datawrangler.viewer.v0+json": {
       "columns": [
        {
         "name": "index",
         "rawType": "int64",
         "type": "integer"
        },
        {
         "name": "order_id",
         "rawType": "object",
         "type": "string"
        },
        {
         "name": "customer_name",
         "rawType": "object",
         "type": "string"
        },
        {
         "name": "product",
         "rawType": "object",
         "type": "string"
        },
        {
         "name": "quantity",
         "rawType": "float64",
         "type": "float"
        },
        {
         "name": "unit_price",
         "rawType": "float64",
         "type": "float"
        },
        {
         "name": "order_date",
         "rawType": "datetime64[ns]",
         "type": "datetime"
        },
        {
         "name": "region",
         "rawType": "category",
         "type": "unknown"
        }
       ],
       "ref": "d7daa56e-ea72-47ff-b9de-3d1e855b858e",
       "rows": [
        [
         "0",
         "1",
         "Diana",
         "Tablet",
         "1.9589041095890412",
         "500.0",
         "2024-01-20 00:00:00",
         "South"
        ],
        [
         "1",
         "2",
         "Eve",
         "Laptop",
         "1.9589041095890412",
         "496.09375",
         "2024-04-29 00:00:00",
         "North"
        ],
        [
         "2",
         "3",
         "Charlie",
         "Laptop",
         "2.0",
         "250.0",
         "2024-01-08 00:00:00",
         "South"
        ],
        [
         "3",
         "4",
         "Eve",
         "Laptop",
         "2.0",
         "750.0",
         "2024-01-07 00:00:00",
         "West"
        ],
        [
         "4",
         "5",
         "Eve",
         "Tablet",
         "3.0",
         "496.09375",
         "2024-03-07 00:00:00",
         "South"
        ]
       ],
       "shape": {
        "columns": 7,
        "rows": 5
       }
      },
      "text/html": [
       "<div>\n",
       "<style scoped>\n",
       "    .dataframe tbody tr th:only-of-type {\n",
       "        vertical-align: middle;\n",
       "    }\n",
       "\n",
       "    .dataframe tbody tr th {\n",
       "        vertical-align: top;\n",
       "    }\n",
       "\n",
       "    .dataframe thead th {\n",
       "        text-align: right;\n",
       "    }\n",
       "</style>\n",
       "<table border=\"1\" class=\"dataframe\">\n",
       "  <thead>\n",
       "    <tr style=\"text-align: right;\">\n",
       "      <th></th>\n",
       "      <th>order_id</th>\n",
       "      <th>customer_name</th>\n",
       "      <th>product</th>\n",
       "      <th>quantity</th>\n",
       "      <th>unit_price</th>\n",
       "      <th>order_date</th>\n",
       "      <th>region</th>\n",
       "    </tr>\n",
       "  </thead>\n",
       "  <tbody>\n",
       "    <tr>\n",
       "      <th>0</th>\n",
       "      <td>1</td>\n",
       "      <td>Diana</td>\n",
       "      <td>Tablet</td>\n",
       "      <td>1.958904</td>\n",
       "      <td>500.00000</td>\n",
       "      <td>2024-01-20</td>\n",
       "      <td>South</td>\n",
       "    </tr>\n",
       "    <tr>\n",
       "      <th>1</th>\n",
       "      <td>2</td>\n",
       "      <td>Eve</td>\n",
       "      <td>Laptop</td>\n",
       "      <td>1.958904</td>\n",
       "      <td>496.09375</td>\n",
       "      <td>2024-04-29</td>\n",
       "      <td>North</td>\n",
       "    </tr>\n",
       "    <tr>\n",
       "      <th>2</th>\n",
       "      <td>3</td>\n",
       "      <td>Charlie</td>\n",
       "      <td>Laptop</td>\n",
       "      <td>2.000000</td>\n",
       "      <td>250.00000</td>\n",
       "      <td>2024-01-08</td>\n",
       "      <td>South</td>\n",
       "    </tr>\n",
       "    <tr>\n",
       "      <th>3</th>\n",
       "      <td>4</td>\n",
       "      <td>Eve</td>\n",
       "      <td>Laptop</td>\n",
       "      <td>2.000000</td>\n",
       "      <td>750.00000</td>\n",
       "      <td>2024-01-07</td>\n",
       "      <td>West</td>\n",
       "    </tr>\n",
       "    <tr>\n",
       "      <th>4</th>\n",
       "      <td>5</td>\n",
       "      <td>Eve</td>\n",
       "      <td>Tablet</td>\n",
       "      <td>3.000000</td>\n",
       "      <td>496.09375</td>\n",
       "      <td>2024-03-07</td>\n",
       "      <td>South</td>\n",
       "    </tr>\n",
       "  </tbody>\n",
       "</table>\n",
       "</div>"
      ],
      "text/plain": [
       "  order_id customer_name product  quantity  unit_price order_date region\n",
       "0        1         Diana  Tablet  1.958904   500.00000 2024-01-20  South\n",
       "1        2           Eve  Laptop  1.958904   496.09375 2024-04-29  North\n",
       "2        3       Charlie  Laptop  2.000000   250.00000 2024-01-08  South\n",
       "3        4           Eve  Laptop  2.000000   750.00000 2024-01-07   West\n",
       "4        5           Eve  Tablet  3.000000   496.09375 2024-03-07  South"
      ]
     },
     "execution_count": 163,
     "metadata": {},
     "output_type": "execute_result"
    }
   ],
   "source": [
    "raw_data.head()"
   ]
  },
  {
   "cell_type": "markdown",
   "id": "50714213",
   "metadata": {},
   "source": [
    "## Enrichment"
   ]
  },
  {
   "cell_type": "markdown",
   "id": "af6316b4",
   "metadata": {},
   "source": [
    "- Adding total price column column to better understand the orders that were made"
   ]
  },
  {
   "cell_type": "code",
   "execution_count": 164,
   "id": "d3ed9a3a",
   "metadata": {},
   "outputs": [],
   "source": [
    "# Calculating total price \n",
    "raw_data['total_price'] = raw_data['quantity'] * raw_data['unit_price']\n",
    "incremental_data['total_price'] = incremental_data['quantity'] * incremental_data['unit_price']"
   ]
  },
  {
   "cell_type": "markdown",
   "id": "e6115911",
   "metadata": {},
   "source": [
    "- Adding a month olumn by extraction from the order date column to enhance understanding of the orders placed"
   ]
  },
  {
   "cell_type": "code",
   "execution_count": 165,
   "id": "0f6addf9",
   "metadata": {},
   "outputs": [],
   "source": [
    "#extracting the year from the order_date column\n",
    "raw_data['order_month'] = pd.to_datetime(raw_data['order_date']).dt.month\n",
    "incremental_data['order_month'] = pd.to_datetime(incremental_data['order_date']).dt.month"
   ]
  },
  {
   "cell_type": "code",
   "execution_count": 166,
   "id": "ea754fbc",
   "metadata": {},
   "outputs": [
    {
     "name": "stdout",
     "output_type": "stream",
     "text": [
      "Max Total Price: 2250.0\n",
      "Min Total Price: 250.0\n"
     ]
    }
   ],
   "source": [
    "#max and min total price\n",
    "max_total_price = raw_data['total_price'].max()\n",
    "min_total_price = raw_data['total_price'].min()\n",
    "print(f\"Max Total Price: {max_total_price}\")\n",
    "print(f\"Min Total Price: {min_total_price}\")"
   ]
  },
  {
   "cell_type": "code",
   "execution_count": 167,
   "id": "17e240eb",
   "metadata": {},
   "outputs": [
    {
     "name": "stdout",
     "output_type": "stream",
     "text": [
      "Max Total Price: 1350.0\n",
      "Min Total Price: 1200.0\n"
     ]
    }
   ],
   "source": [
    "max_total_price1 = incremental_data['total_price'].max()\n",
    "min_total_price1 = incremental_data['total_price'].min()\n",
    "print(f\"Max Total Price: {max_total_price1}\")\n",
    "print(f\"Min Total Price: {min_total_price1}\")"
   ]
  },
  {
   "cell_type": "markdown",
   "id": "daaf4998",
   "metadata": {},
   "source": [
    "#### Segmenting the orders into different categories low, medium, and high to understand the order patterns"
   ]
  },
  {
   "cell_type": "code",
   "execution_count": 168,
   "id": "43e6de9b",
   "metadata": {},
   "outputs": [],
   "source": [
    "# Define customer tiers based on total price for raw_data\n",
    "# Define bins and labels for customer tiers\n",
    "bins = [250, 916.67, 1583.33, 2250]\n",
    "labels = ['Low', 'Medium', 'High']\n",
    "\n",
    "# Assign customer tiers\n",
    "raw_data['customer_tier'] = pd.cut(raw_data['total_price'], bins=bins, labels=labels, right=True, include_lowest=True)\n",
    "\n",
    "\n",
    "\n"
   ]
  },
  {
   "cell_type": "code",
   "execution_count": 169,
   "id": "b18f44f0",
   "metadata": {},
   "outputs": [],
   "source": [
    "# Define customer tiers based on total price for incremental_data\n",
    "# Define bins and labels for customer tiers\n",
    "bins = [250, 916.67, 1583.33, 2250]\n",
    "labels = ['Low', 'Medium', 'High']\n",
    "\n",
    "# Assign customer tiers\n",
    "incremental_data['customer_tier'] = pd.cut(incremental_data['total_price'], bins=bins, labels=labels, right=True, include_lowest=True)\n",
    "\n"
   ]
  },
  {
   "cell_type": "markdown",
   "id": "00b45497",
   "metadata": {},
   "source": [
    "- Data after enrichment"
   ]
  },
  {
   "cell_type": "code",
   "execution_count": 170,
   "id": "379fc760",
   "metadata": {},
   "outputs": [
    {
     "data": {
      "application/vnd.microsoft.datawrangler.viewer.v0+json": {
       "columns": [
        {
         "name": "index",
         "rawType": "int64",
         "type": "integer"
        },
        {
         "name": "order_id",
         "rawType": "object",
         "type": "string"
        },
        {
         "name": "customer_name",
         "rawType": "object",
         "type": "string"
        },
        {
         "name": "product",
         "rawType": "object",
         "type": "string"
        },
        {
         "name": "quantity",
         "rawType": "float64",
         "type": "float"
        },
        {
         "name": "unit_price",
         "rawType": "float64",
         "type": "float"
        },
        {
         "name": "order_date",
         "rawType": "datetime64[ns]",
         "type": "datetime"
        },
        {
         "name": "region",
         "rawType": "category",
         "type": "unknown"
        },
        {
         "name": "total_price",
         "rawType": "float64",
         "type": "float"
        },
        {
         "name": "order_month",
         "rawType": "int32",
         "type": "integer"
        },
        {
         "name": "customer_tier",
         "rawType": "category",
         "type": "unknown"
        }
       ],
       "ref": "5ffa7980-aaf1-4740-9804-ad3e5fa5f426",
       "rows": [
        [
         "0",
         "1",
         "Diana",
         "Tablet",
         "1.9589041095890412",
         "500.0",
         "2024-01-20 00:00:00",
         "South",
         "979.4520547945206",
         "1",
         "Medium"
        ],
        [
         "1",
         "2",
         "Eve",
         "Laptop",
         "1.9589041095890412",
         "496.09375",
         "2024-04-29 00:00:00",
         "North",
         "971.8000856164384",
         "4",
         "Medium"
        ],
        [
         "2",
         "3",
         "Charlie",
         "Laptop",
         "2.0",
         "250.0",
         "2024-01-08 00:00:00",
         "South",
         "500.0",
         "1",
         "Low"
        ],
        [
         "3",
         "4",
         "Eve",
         "Laptop",
         "2.0",
         "750.0",
         "2024-01-07 00:00:00",
         "West",
         "1500.0",
         "1",
         "Medium"
        ],
        [
         "4",
         "5",
         "Eve",
         "Tablet",
         "3.0",
         "496.09375",
         "2024-03-07 00:00:00",
         "South",
         "1488.28125",
         "3",
         "Medium"
        ]
       ],
       "shape": {
        "columns": 10,
        "rows": 5
       }
      },
      "text/html": [
       "<div>\n",
       "<style scoped>\n",
       "    .dataframe tbody tr th:only-of-type {\n",
       "        vertical-align: middle;\n",
       "    }\n",
       "\n",
       "    .dataframe tbody tr th {\n",
       "        vertical-align: top;\n",
       "    }\n",
       "\n",
       "    .dataframe thead th {\n",
       "        text-align: right;\n",
       "    }\n",
       "</style>\n",
       "<table border=\"1\" class=\"dataframe\">\n",
       "  <thead>\n",
       "    <tr style=\"text-align: right;\">\n",
       "      <th></th>\n",
       "      <th>order_id</th>\n",
       "      <th>customer_name</th>\n",
       "      <th>product</th>\n",
       "      <th>quantity</th>\n",
       "      <th>unit_price</th>\n",
       "      <th>order_date</th>\n",
       "      <th>region</th>\n",
       "      <th>total_price</th>\n",
       "      <th>order_month</th>\n",
       "      <th>customer_tier</th>\n",
       "    </tr>\n",
       "  </thead>\n",
       "  <tbody>\n",
       "    <tr>\n",
       "      <th>0</th>\n",
       "      <td>1</td>\n",
       "      <td>Diana</td>\n",
       "      <td>Tablet</td>\n",
       "      <td>1.958904</td>\n",
       "      <td>500.00000</td>\n",
       "      <td>2024-01-20</td>\n",
       "      <td>South</td>\n",
       "      <td>979.452055</td>\n",
       "      <td>1</td>\n",
       "      <td>Medium</td>\n",
       "    </tr>\n",
       "    <tr>\n",
       "      <th>1</th>\n",
       "      <td>2</td>\n",
       "      <td>Eve</td>\n",
       "      <td>Laptop</td>\n",
       "      <td>1.958904</td>\n",
       "      <td>496.09375</td>\n",
       "      <td>2024-04-29</td>\n",
       "      <td>North</td>\n",
       "      <td>971.800086</td>\n",
       "      <td>4</td>\n",
       "      <td>Medium</td>\n",
       "    </tr>\n",
       "    <tr>\n",
       "      <th>2</th>\n",
       "      <td>3</td>\n",
       "      <td>Charlie</td>\n",
       "      <td>Laptop</td>\n",
       "      <td>2.000000</td>\n",
       "      <td>250.00000</td>\n",
       "      <td>2024-01-08</td>\n",
       "      <td>South</td>\n",
       "      <td>500.000000</td>\n",
       "      <td>1</td>\n",
       "      <td>Low</td>\n",
       "    </tr>\n",
       "    <tr>\n",
       "      <th>3</th>\n",
       "      <td>4</td>\n",
       "      <td>Eve</td>\n",
       "      <td>Laptop</td>\n",
       "      <td>2.000000</td>\n",
       "      <td>750.00000</td>\n",
       "      <td>2024-01-07</td>\n",
       "      <td>West</td>\n",
       "      <td>1500.000000</td>\n",
       "      <td>1</td>\n",
       "      <td>Medium</td>\n",
       "    </tr>\n",
       "    <tr>\n",
       "      <th>4</th>\n",
       "      <td>5</td>\n",
       "      <td>Eve</td>\n",
       "      <td>Tablet</td>\n",
       "      <td>3.000000</td>\n",
       "      <td>496.09375</td>\n",
       "      <td>2024-03-07</td>\n",
       "      <td>South</td>\n",
       "      <td>1488.281250</td>\n",
       "      <td>3</td>\n",
       "      <td>Medium</td>\n",
       "    </tr>\n",
       "  </tbody>\n",
       "</table>\n",
       "</div>"
      ],
      "text/plain": [
       "  order_id customer_name product  quantity  unit_price order_date region  \\\n",
       "0        1         Diana  Tablet  1.958904   500.00000 2024-01-20  South   \n",
       "1        2           Eve  Laptop  1.958904   496.09375 2024-04-29  North   \n",
       "2        3       Charlie  Laptop  2.000000   250.00000 2024-01-08  South   \n",
       "3        4           Eve  Laptop  2.000000   750.00000 2024-01-07   West   \n",
       "4        5           Eve  Tablet  3.000000   496.09375 2024-03-07  South   \n",
       "\n",
       "   total_price  order_month customer_tier  \n",
       "0   979.452055            1        Medium  \n",
       "1   971.800086            4        Medium  \n",
       "2   500.000000            1           Low  \n",
       "3  1500.000000            1        Medium  \n",
       "4  1488.281250            3        Medium  "
      ]
     },
     "execution_count": 170,
     "metadata": {},
     "output_type": "execute_result"
    }
   ],
   "source": [
    "raw_data.head()\n"
   ]
  },
  {
   "cell_type": "code",
   "execution_count": 171,
   "id": "128c7687",
   "metadata": {},
   "outputs": [
    {
     "data": {
      "application/vnd.microsoft.datawrangler.viewer.v0+json": {
       "columns": [
        {
         "name": "index",
         "rawType": "int64",
         "type": "integer"
        },
        {
         "name": "order_id",
         "rawType": "object",
         "type": "string"
        },
        {
         "name": "customer_name",
         "rawType": "object",
         "type": "string"
        },
        {
         "name": "product",
         "rawType": "object",
         "type": "string"
        },
        {
         "name": "quantity",
         "rawType": "float64",
         "type": "float"
        },
        {
         "name": "unit_price",
         "rawType": "float64",
         "type": "float"
        },
        {
         "name": "order_date",
         "rawType": "datetime64[ns]",
         "type": "datetime"
        },
        {
         "name": "region",
         "rawType": "category",
         "type": "unknown"
        },
        {
         "name": "total_price",
         "rawType": "float64",
         "type": "float"
        },
        {
         "name": "order_month",
         "rawType": "int32",
         "type": "integer"
        },
        {
         "name": "customer_tier",
         "rawType": "category",
         "type": "unknown"
        }
       ],
       "ref": "3f1bb1ad-3101-41b9-a46b-4075bc99be86",
       "rows": [
        [
         "0",
         "101",
         "Alice",
         "Laptop",
         "1.5",
         "900.0",
         "2024-05-09 00:00:00",
         "Central",
         "1350.0",
         "5",
         "Medium"
        ],
        [
         "4",
         "105",
         "Heidi",
         "Tablet",
         "2.0",
         "600.0",
         "2024-05-21 00:00:00",
         "North",
         "1200.0",
         "5",
         "Medium"
        ],
        [
         "8",
         "109",
         "Grace",
         "Laptop",
         "2.0",
         "600.0",
         "2024-05-29 00:00:00",
         "Central",
         "1200.0",
         "5",
         "Medium"
        ],
        [
         "9",
         "110",
         "Heidi",
         "Phone",
         "1.5",
         "900.0",
         "2024-05-24 00:00:00",
         "Central",
         "1350.0",
         "5",
         "Medium"
        ]
       ],
       "shape": {
        "columns": 10,
        "rows": 4
       }
      },
      "text/html": [
       "<div>\n",
       "<style scoped>\n",
       "    .dataframe tbody tr th:only-of-type {\n",
       "        vertical-align: middle;\n",
       "    }\n",
       "\n",
       "    .dataframe tbody tr th {\n",
       "        vertical-align: top;\n",
       "    }\n",
       "\n",
       "    .dataframe thead th {\n",
       "        text-align: right;\n",
       "    }\n",
       "</style>\n",
       "<table border=\"1\" class=\"dataframe\">\n",
       "  <thead>\n",
       "    <tr style=\"text-align: right;\">\n",
       "      <th></th>\n",
       "      <th>order_id</th>\n",
       "      <th>customer_name</th>\n",
       "      <th>product</th>\n",
       "      <th>quantity</th>\n",
       "      <th>unit_price</th>\n",
       "      <th>order_date</th>\n",
       "      <th>region</th>\n",
       "      <th>total_price</th>\n",
       "      <th>order_month</th>\n",
       "      <th>customer_tier</th>\n",
       "    </tr>\n",
       "  </thead>\n",
       "  <tbody>\n",
       "    <tr>\n",
       "      <th>0</th>\n",
       "      <td>101</td>\n",
       "      <td>Alice</td>\n",
       "      <td>Laptop</td>\n",
       "      <td>1.5</td>\n",
       "      <td>900.0</td>\n",
       "      <td>2024-05-09</td>\n",
       "      <td>Central</td>\n",
       "      <td>1350.0</td>\n",
       "      <td>5</td>\n",
       "      <td>Medium</td>\n",
       "    </tr>\n",
       "    <tr>\n",
       "      <th>4</th>\n",
       "      <td>105</td>\n",
       "      <td>Heidi</td>\n",
       "      <td>Tablet</td>\n",
       "      <td>2.0</td>\n",
       "      <td>600.0</td>\n",
       "      <td>2024-05-21</td>\n",
       "      <td>North</td>\n",
       "      <td>1200.0</td>\n",
       "      <td>5</td>\n",
       "      <td>Medium</td>\n",
       "    </tr>\n",
       "    <tr>\n",
       "      <th>8</th>\n",
       "      <td>109</td>\n",
       "      <td>Grace</td>\n",
       "      <td>Laptop</td>\n",
       "      <td>2.0</td>\n",
       "      <td>600.0</td>\n",
       "      <td>2024-05-29</td>\n",
       "      <td>Central</td>\n",
       "      <td>1200.0</td>\n",
       "      <td>5</td>\n",
       "      <td>Medium</td>\n",
       "    </tr>\n",
       "    <tr>\n",
       "      <th>9</th>\n",
       "      <td>110</td>\n",
       "      <td>Heidi</td>\n",
       "      <td>Phone</td>\n",
       "      <td>1.5</td>\n",
       "      <td>900.0</td>\n",
       "      <td>2024-05-24</td>\n",
       "      <td>Central</td>\n",
       "      <td>1350.0</td>\n",
       "      <td>5</td>\n",
       "      <td>Medium</td>\n",
       "    </tr>\n",
       "  </tbody>\n",
       "</table>\n",
       "</div>"
      ],
      "text/plain": [
       "  order_id customer_name product  quantity  unit_price order_date   region  \\\n",
       "0      101         Alice  Laptop       1.5       900.0 2024-05-09  Central   \n",
       "4      105         Heidi  Tablet       2.0       600.0 2024-05-21    North   \n",
       "8      109         Grace  Laptop       2.0       600.0 2024-05-29  Central   \n",
       "9      110         Heidi   Phone       1.5       900.0 2024-05-24  Central   \n",
       "\n",
       "   total_price  order_month customer_tier  \n",
       "0       1350.0            5        Medium  \n",
       "4       1200.0            5        Medium  \n",
       "8       1200.0            5        Medium  \n",
       "9       1350.0            5        Medium  "
      ]
     },
     "execution_count": 171,
     "metadata": {},
     "output_type": "execute_result"
    }
   ],
   "source": [
    "incremental_data.head()"
   ]
  },
  {
   "cell_type": "markdown",
   "id": "5c7b7a64",
   "metadata": {},
   "source": [
    "## Filtering"
   ]
  },
  {
   "cell_type": "code",
   "execution_count": 172,
   "id": "b5680faf",
   "metadata": {},
   "outputs": [
    {
     "name": "stdout",
     "output_type": "stream",
     "text": [
      "Rows with quantity < 0 in raw_data:\n",
      "Empty DataFrame\n",
      "Columns: [order_id, customer_name, product, quantity, unit_price, order_date, region, total_price, order_month, customer_tier]\n",
      "Index: []\n",
      "Rows with quantity < 0 in incremental_data:\n",
      "Empty DataFrame\n",
      "Columns: [order_id, customer_name, product, quantity, unit_price, order_date, region, total_price, order_month, customer_tier]\n",
      "Index: []\n"
     ]
    }
   ],
   "source": [
    "# show rows with quantity <0\n",
    "print(\"Rows with quantity < 0 in raw_data:\")\n",
    "print(raw_data[raw_data['quantity'] < 0])\n",
    "print(\"Rows with quantity < 0 in incremental_data:\")\n",
    "print(incremental_data[incremental_data['quantity'] < 0])"
   ]
  },
  {
   "cell_type": "markdown",
   "id": "3470b361",
   "metadata": {},
   "source": [
    "- No filtering needed as all the values in the quantity column are within standards"
   ]
  },
  {
   "cell_type": "code",
   "execution_count": null,
   "id": "dc1c2163",
   "metadata": {},
   "outputs": [],
   "source": []
  },
  {
   "cell_type": "markdown",
   "id": "d0b0011d",
   "metadata": {},
   "source": [
    "- Visualizations"
   ]
  },
  {
   "cell_type": "code",
   "execution_count": 173,
   "id": "f70a84ce",
   "metadata": {},
   "outputs": [],
   "source": [
    "#count the number of orders in each tier\n",
    "tier_counts_raw = raw_data['customer_tier'].value_counts()\n",
    "tier_counts_incremental = incremental_data['customer_tier'].value_counts()"
   ]
  },
  {
   "cell_type": "code",
   "execution_count": 174,
   "id": "c1ff1034",
   "metadata": {},
   "outputs": [
    {
     "name": "stderr",
     "output_type": "stream",
     "text": [
      "C:\\Users\\Admin\\AppData\\Local\\Temp\\ipykernel_2772\\4198490183.py:3: FutureWarning: \n",
      "\n",
      "Passing `palette` without assigning `hue` is deprecated and will be removed in v0.14.0. Assign the `x` variable to `hue` and set `legend=False` for the same effect.\n",
      "\n",
      "  sns.countplot(x='customer_tier', data=raw_data, order=tier_counts_raw.index, palette='viridis')\n"
     ]
    },
    {
     "data": {
      "image/png": "[encoded data removed]",
      "text/plain": [
       "<Figure size 1000x600 with 1 Axes>"
      ]
     },
     "metadata": {},
     "output_type": "display_data"
    }
   ],
   "source": [
    "# plotting the distribution of customer tiers for raw_data\n",
    "plt.figure(figsize=(10, 6))\n",
    "sns.countplot(x='customer_tier', data=raw_data, order=tier_counts_raw.index, palette='viridis')\n",
    "plt.title('Distribution of Customer Tiers in Raw Data')\n",
    "plt.xlabel('Customer Tier')\n",
    "plt.ylabel('Number of Orders')\n",
    "plt.xticks(rotation=45)\n",
    "plt.show()\n",
    "\n"
   ]
  },
  {
   "cell_type": "code",
   "execution_count": 175,
   "id": "b75a0697",
   "metadata": {},
   "outputs": [
    {
     "name": "stderr",
     "output_type": "stream",
     "text": [
      "C:\\Users\\Admin\\AppData\\Local\\Temp\\ipykernel_2772\\3648921676.py:3: FutureWarning: \n",
      "\n",
      "Passing `palette` without assigning `hue` is deprecated and will be removed in v0.14.0. Assign the `x` variable to `hue` and set `legend=False` for the same effect.\n",
      "\n",
      "  sns.countplot(x='customer_tier', data=incremental_data, order=tier_counts_incremental.index, palette='viridis')\n"
     ]
    },
    {
     "data": {
      "image/png": "[encoded data removed]",
      "text/plain": [
       "<Figure size 1000x600 with 1 Axes>"
      ]
     },
     "metadata": {},
     "output_type": "display_data"
    }
   ],
   "source": [
    "# plotting the distribution of customer tiers for incremental_data\n",
    "plt.figure(figsize=(10, 6))\n",
    "sns.countplot(x='customer_tier', data=incremental_data, order=tier_counts_incremental.index, palette='viridis')\n",
    "plt.title('Distribution of Customer Tiers in Incremental Data')\n",
    "plt.xlabel('Customer Tier')\n",
    "plt.ylabel('Number of Orders')\n",
    "plt.xticks(rotation=45) \n",
    "plt.show()\n"
   ]
  },
  {
   "cell_type": "code",
   "execution_count": 176,
   "id": "5e51c9b4",
   "metadata": {},
   "outputs": [],
   "source": [
    "#saving the cleaned data to csv files\n",
    "raw_data.to_csv('transformed/transformed_full.csv', index=False)\n",
    "incremental_data.to_csv('transformed/transformed_incremental.csv', index=False)\n",
    "\n"
   ]
  },
  {
   "cell_type": "code",
   "execution_count": 177,
   "id": "20cb101b",
   "metadata": {},
   "outputs": [
    {
     "data": {
      "image/png": "[encoded data removed]",
      "text/plain": [
       "<Figure size 1200x600 with 1 Axes>"
      ]
     },
     "metadata": {},
     "output_type": "display_data"
    }
   ],
   "source": [
    "plt.figure(figsize=(12, 6))\n",
    "sns.lineplot(\n",
    "    data=raw_data,\n",
    "    x='order_month',\n",
    "    y='total_price',\n",
    "    estimator='sum',\n",
    "    marker='o',\n",
    "    color='blue'\n",
    ")\n",
    "plt.title('Total Orders Over Time (Raw Data)')\n",
    "plt.xlabel('Order Month')\n",
    "plt.ylabel('Total Price')\n",
    "plt.xticks(np.arange(1, 13, 1))  # Set x-ticks from Jan (1) to Dec (12)\n",
    "plt.grid(True)\n",
    "plt.tight_layout()\n",
    "plt.show()"
   ]
  }
 ],
 "metadata": {
  "kernelspec": {
   "display_name": "Python 3",
   "language": "python",
   "name": "python3"
  },
  "language_info": {
   "codemirror_mode": {
    "name": "ipython",
    "version": 3
   },
   "file_extension": ".py",
   "mimetype": "text/x-python",
   "name": "python",
   "nbconvert_exporter": "python",
   "pygments_lexer": "ipython3",
   "version": "3.12.0"
  }
 },
 "nbformat": 4,
 "nbformat_minor": 5
}
