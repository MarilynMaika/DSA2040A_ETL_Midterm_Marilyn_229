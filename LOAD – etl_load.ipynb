{
 "cells": [
  {
   "cell_type": "code",
   "execution_count": 1,
   "id": "fc2175d9",
   "metadata": {},
   "outputs": [],
   "source": [
    "import pandas as pd\n",
    "\n",
    "# Load transformed CSV files\n",
    "full_df = pd.read_csv('transformed/transformed_full.csv')\n",
    "inc_df = pd.read_csv('transformed/transformed_incremental.csv')\n"
   ]
  },
  {
   "cell_type": "code",
   "execution_count": 2,
   "id": "88e84d01",
   "metadata": {},
   "outputs": [],
   "source": [
    "# Save both datasets to Parquet\n",
    "full_df.to_parquet('loaded/full_data.parquet', index=False)\n",
    "inc_df.to_parquet('loaded/incremental_data.parquet', index=False)\n",
    "\n"
   ]
  },
  {
   "cell_type": "code",
   "execution_count": 3,
   "id": "28770843",
   "metadata": {},
   "outputs": [
    {
     "name": "stdout",
     "output_type": "stream",
     "text": [
      "Full Data Preview:\n"
     ]
    },
    {
     "data": {
      "application/vnd.microsoft.datawrangler.viewer.v0+json": {
       "columns": [
        {
         "name": "index",
         "rawType": "int64",
         "type": "integer"
        },
        {
         "name": "order_id",
         "rawType": "int64",
         "type": "integer"
        },
        {
         "name": "customer_name",
         "rawType": "object",
         "type": "string"
        },
        {
         "name": "product",
         "rawType": "object",
         "type": "string"
        },
        {
         "name": "quantity",
         "rawType": "float64",
         "type": "float"
        },
        {
         "name": "unit_price",
         "rawType": "float64",
         "type": "float"
        },
        {
         "name": "order_date",
         "rawType": "object",
         "type": "string"
        },
        {
         "name": "region",
         "rawType": "object",
         "type": "string"
        },
        {
         "name": "total_price",
         "rawType": "float64",
         "type": "float"
        },
        {
         "name": "order_month",
         "rawType": "int64",
         "type": "integer"
        },
        {
         "name": "customer_tier",
         "rawType": "object",
         "type": "string"
        }
       ],
       "ref": "00c8fcfe-877a-4d95-b2ea-218c75577bcc",
       "rows": [
        [
         "0",
         "1",
         "Diana",
         "Tablet",
         "1.9589041095890407",
         "500.0",
         "2024-01-20",
         "South",
         "979.4520547945206",
         "1",
         "Medium"
        ],
        [
         "1",
         "2",
         "Eve",
         "Laptop",
         "1.9589041095890407",
         "496.09375",
         "2024-04-29",
         "North",
         "971.8000856164384",
         "4",
         "Medium"
        ],
        [
         "2",
         "3",
         "Charlie",
         "Laptop",
         "2.0",
         "250.0",
         "2024-01-08",
         "South",
         "500.0",
         "1",
         "Low"
        ],
        [
         "3",
         "4",
         "Eve",
         "Laptop",
         "2.0",
         "750.0",
         "2024-01-07",
         "West",
         "1500.0",
         "1",
         "Medium"
        ],
        [
         "4",
         "5",
         "Eve",
         "Tablet",
         "3.0",
         "496.09375",
         "2024-03-07",
         "South",
         "1488.28125",
         "3",
         "Medium"
        ]
       ],
       "shape": {
        "columns": 10,
        "rows": 5
       }
      },
      "text/html": [
       "<div>\n",
       "<style scoped>\n",
       "    .dataframe tbody tr th:only-of-type {\n",
       "        vertical-align: middle;\n",
       "    }\n",
       "\n",
       "    .dataframe tbody tr th {\n",
       "        vertical-align: top;\n",
       "    }\n",
       "\n",
       "    .dataframe thead th {\n",
       "        text-align: right;\n",
       "    }\n",
       "</style>\n",
       "<table border=\"1\" class=\"dataframe\">\n",
       "  <thead>\n",
       "    <tr style=\"text-align: right;\">\n",
       "      <th></th>\n",
       "      <th>order_id</th>\n",
       "      <th>customer_name</th>\n",
       "      <th>product</th>\n",
       "      <th>quantity</th>\n",
       "      <th>unit_price</th>\n",
       "      <th>order_date</th>\n",
       "      <th>region</th>\n",
       "      <th>total_price</th>\n",
       "      <th>order_month</th>\n",
       "      <th>customer_tier</th>\n",
       "    </tr>\n",
       "  </thead>\n",
       "  <tbody>\n",
       "    <tr>\n",
       "      <th>0</th>\n",
       "      <td>1</td>\n",
       "      <td>Diana</td>\n",
       "      <td>Tablet</td>\n",
       "      <td>1.958904</td>\n",
       "      <td>500.00000</td>\n",
       "      <td>2024-01-20</td>\n",
       "      <td>South</td>\n",
       "      <td>979.452055</td>\n",
       "      <td>1</td>\n",
       "      <td>Medium</td>\n",
       "    </tr>\n",
       "    <tr>\n",
       "      <th>1</th>\n",
       "      <td>2</td>\n",
       "      <td>Eve</td>\n",
       "      <td>Laptop</td>\n",
       "      <td>1.958904</td>\n",
       "      <td>496.09375</td>\n",
       "      <td>2024-04-29</td>\n",
       "      <td>North</td>\n",
       "      <td>971.800086</td>\n",
       "      <td>4</td>\n",
       "      <td>Medium</td>\n",
       "    </tr>\n",
       "    <tr>\n",
       "      <th>2</th>\n",
       "      <td>3</td>\n",
       "      <td>Charlie</td>\n",
       "      <td>Laptop</td>\n",
       "      <td>2.000000</td>\n",
       "      <td>250.00000</td>\n",
       "      <td>2024-01-08</td>\n",
       "      <td>South</td>\n",
       "      <td>500.000000</td>\n",
       "      <td>1</td>\n",
       "      <td>Low</td>\n",
       "    </tr>\n",
       "    <tr>\n",
       "      <th>3</th>\n",
       "      <td>4</td>\n",
       "      <td>Eve</td>\n",
       "      <td>Laptop</td>\n",
       "      <td>2.000000</td>\n",
       "      <td>750.00000</td>\n",
       "      <td>2024-01-07</td>\n",
       "      <td>West</td>\n",
       "      <td>1500.000000</td>\n",
       "      <td>1</td>\n",
       "      <td>Medium</td>\n",
       "    </tr>\n",
       "    <tr>\n",
       "      <th>4</th>\n",
       "      <td>5</td>\n",
       "      <td>Eve</td>\n",
       "      <td>Tablet</td>\n",
       "      <td>3.000000</td>\n",
       "      <td>496.09375</td>\n",
       "      <td>2024-03-07</td>\n",
       "      <td>South</td>\n",
       "      <td>1488.281250</td>\n",
       "      <td>3</td>\n",
       "      <td>Medium</td>\n",
       "    </tr>\n",
       "  </tbody>\n",
       "</table>\n",
       "</div>"
      ],
      "text/plain": [
       "   order_id customer_name product  quantity  unit_price  order_date region  \\\n",
       "0         1         Diana  Tablet  1.958904   500.00000  2024-01-20  South   \n",
       "1         2           Eve  Laptop  1.958904   496.09375  2024-04-29  North   \n",
       "2         3       Charlie  Laptop  2.000000   250.00000  2024-01-08  South   \n",
       "3         4           Eve  Laptop  2.000000   750.00000  2024-01-07   West   \n",
       "4         5           Eve  Tablet  3.000000   496.09375  2024-03-07  South   \n",
       "\n",
       "   total_price  order_month customer_tier  \n",
       "0   979.452055            1        Medium  \n",
       "1   971.800086            4        Medium  \n",
       "2   500.000000            1           Low  \n",
       "3  1500.000000            1        Medium  \n",
       "4  1488.281250            3        Medium  "
      ]
     },
     "execution_count": 3,
     "metadata": {},
     "output_type": "execute_result"
    }
   ],
   "source": [
    "# Read and preview stored Parquet files\n",
    "print(\"Full Data Preview:\")\n",
    "pd.read_parquet('loaded/full_data.parquet').head()\n",
    "\n",
    "\n"
   ]
  },
  {
   "cell_type": "code",
   "execution_count": 4,
   "id": "a7f9ccff",
   "metadata": {},
   "outputs": [
    {
     "name": "stdout",
     "output_type": "stream",
     "text": [
      "Incremental Data Preview:\n"
     ]
    },
    {
     "data": {
      "application/vnd.microsoft.datawrangler.viewer.v0+json": {
       "columns": [
        {
         "name": "index",
         "rawType": "int64",
         "type": "integer"
        },
        {
         "name": "order_id",
         "rawType": "int64",
         "type": "integer"
        },
        {
         "name": "customer_name",
         "rawType": "object",
         "type": "string"
        },
        {
         "name": "product",
         "rawType": "object",
         "type": "string"
        },
        {
         "name": "quantity",
         "rawType": "float64",
         "type": "float"
        },
        {
         "name": "unit_price",
         "rawType": "float64",
         "type": "float"
        },
        {
         "name": "order_date",
         "rawType": "object",
         "type": "string"
        },
        {
         "name": "region",
         "rawType": "object",
         "type": "string"
        },
        {
         "name": "total_price",
         "rawType": "float64",
         "type": "float"
        },
        {
         "name": "order_month",
         "rawType": "int64",
         "type": "integer"
        },
        {
         "name": "customer_tier",
         "rawType": "object",
         "type": "string"
        }
       ],
       "ref": "07daf9fd-709c-4ee2-9c96-a5ff51e750cc",
       "rows": [
        [
         "0",
         "101",
         "Alice",
         "Laptop",
         "1.5",
         "900.0",
         "2024-05-09",
         "Central",
         "1350.0",
         "5",
         "Medium"
        ],
        [
         "1",
         "105",
         "Heidi",
         "Tablet",
         "2.0",
         "600.0",
         "2024-05-21",
         "North",
         "1200.0",
         "5",
         "Medium"
        ],
        [
         "2",
         "109",
         "Grace",
         "Laptop",
         "2.0",
         "600.0",
         "2024-05-29",
         "Central",
         "1200.0",
         "5",
         "Medium"
        ],
        [
         "3",
         "110",
         "Heidi",
         "Phone",
         "1.5",
         "900.0",
         "2024-05-24",
         "Central",
         "1350.0",
         "5",
         "Medium"
        ]
       ],
       "shape": {
        "columns": 10,
        "rows": 4
       }
      },
      "text/html": [
       "<div>\n",
       "<style scoped>\n",
       "    .dataframe tbody tr th:only-of-type {\n",
       "        vertical-align: middle;\n",
       "    }\n",
       "\n",
       "    .dataframe tbody tr th {\n",
       "        vertical-align: top;\n",
       "    }\n",
       "\n",
       "    .dataframe thead th {\n",
       "        text-align: right;\n",
       "    }\n",
       "</style>\n",
       "<table border=\"1\" class=\"dataframe\">\n",
       "  <thead>\n",
       "    <tr style=\"text-align: right;\">\n",
       "      <th></th>\n",
       "      <th>order_id</th>\n",
       "      <th>customer_name</th>\n",
       "      <th>product</th>\n",
       "      <th>quantity</th>\n",
       "      <th>unit_price</th>\n",
       "      <th>order_date</th>\n",
       "      <th>region</th>\n",
       "      <th>total_price</th>\n",
       "      <th>order_month</th>\n",
       "      <th>customer_tier</th>\n",
       "    </tr>\n",
       "  </thead>\n",
       "  <tbody>\n",
       "    <tr>\n",
       "      <th>0</th>\n",
       "      <td>101</td>\n",
       "      <td>Alice</td>\n",
       "      <td>Laptop</td>\n",
       "      <td>1.5</td>\n",
       "      <td>900.0</td>\n",
       "      <td>2024-05-09</td>\n",
       "      <td>Central</td>\n",
       "      <td>1350.0</td>\n",
       "      <td>5</td>\n",
       "      <td>Medium</td>\n",
       "    </tr>\n",
       "    <tr>\n",
       "      <th>1</th>\n",
       "      <td>105</td>\n",
       "      <td>Heidi</td>\n",
       "      <td>Tablet</td>\n",
       "      <td>2.0</td>\n",
       "      <td>600.0</td>\n",
       "      <td>2024-05-21</td>\n",
       "      <td>North</td>\n",
       "      <td>1200.0</td>\n",
       "      <td>5</td>\n",
       "      <td>Medium</td>\n",
       "    </tr>\n",
       "    <tr>\n",
       "      <th>2</th>\n",
       "      <td>109</td>\n",
       "      <td>Grace</td>\n",
       "      <td>Laptop</td>\n",
       "      <td>2.0</td>\n",
       "      <td>600.0</td>\n",
       "      <td>2024-05-29</td>\n",
       "      <td>Central</td>\n",
       "      <td>1200.0</td>\n",
       "      <td>5</td>\n",
       "      <td>Medium</td>\n",
       "    </tr>\n",
       "    <tr>\n",
       "      <th>3</th>\n",
       "      <td>110</td>\n",
       "      <td>Heidi</td>\n",
       "      <td>Phone</td>\n",
       "      <td>1.5</td>\n",
       "      <td>900.0</td>\n",
       "      <td>2024-05-24</td>\n",
       "      <td>Central</td>\n",
       "      <td>1350.0</td>\n",
       "      <td>5</td>\n",
       "      <td>Medium</td>\n",
       "    </tr>\n",
       "  </tbody>\n",
       "</table>\n",
       "</div>"
      ],
      "text/plain": [
       "   order_id customer_name product  quantity  unit_price  order_date   region  \\\n",
       "0       101         Alice  Laptop       1.5       900.0  2024-05-09  Central   \n",
       "1       105         Heidi  Tablet       2.0       600.0  2024-05-21    North   \n",
       "2       109         Grace  Laptop       2.0       600.0  2024-05-29  Central   \n",
       "3       110         Heidi   Phone       1.5       900.0  2024-05-24  Central   \n",
       "\n",
       "   total_price  order_month customer_tier  \n",
       "0       1350.0            5        Medium  \n",
       "1       1200.0            5        Medium  \n",
       "2       1200.0            5        Medium  \n",
       "3       1350.0            5        Medium  "
      ]
     },
     "execution_count": 4,
     "metadata": {},
     "output_type": "execute_result"
    }
   ],
   "source": [
    "print(\"Incremental Data Preview:\")\n",
    "pd.read_parquet('loaded/incremental_data.parquet').head()"
   ]
  }
 ],
 "metadata": {
  "kernelspec": {
   "display_name": "Python 3",
   "language": "python",
   "name": "python3"
  },
  "language_info": {
   "codemirror_mode": {
    "name": "ipython",
    "version": 3
   },
   "file_extension": ".py",
   "mimetype": "text/x-python",
   "name": "python",
   "nbconvert_exporter": "python",
   "pygments_lexer": "ipython3",
   "version": "3.12.0"
  }
 },
 "nbformat": 4,
 "nbformat_minor": 5
}
