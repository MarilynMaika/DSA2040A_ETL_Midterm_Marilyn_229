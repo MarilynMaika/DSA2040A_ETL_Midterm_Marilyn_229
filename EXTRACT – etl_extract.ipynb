{
 "cells": [
  {
   "cell_type": "markdown",
   "id": "5df2e099",
   "metadata": {},
   "source": [
    "- Importing necessary libraries"
   ]
  },
  {
   "cell_type": "code",
   "execution_count": 2,
   "id": "caed66d0",
   "metadata": {},
   "outputs": [],
   "source": [
    "import pandas as pd\n",
    "import numpy as np\n",
    "import matplotlib.pyplot as plt\n",
    "import seaborn as sns\n"
   ]
  },
  {
   "cell_type": "markdown",
   "id": "0cb48336",
   "metadata": {},
   "source": [
    "- Loading the data set"
   ]
  },
  {
   "cell_type": "code",
   "execution_count": 3,
   "id": "ae7c2a74",
   "metadata": {},
   "outputs": [],
   "source": [
    "raw_data=pd.read_csv('raw_data.csv')\n",
    "incremental_data=pd.read_csv('incremental_data.csv')"
   ]
  },
  {
   "cell_type": "code",
   "execution_count": 4,
   "id": "c94193ba",
   "metadata": {},
   "outputs": [
    {
     "name": "stdout",
     "output_type": "stream",
     "text": [
      "   order_id customer_name product  quantity  unit_price  order_date region\n",
      "0         1         Diana  Tablet       NaN       500.0  2024-01-20  South\n",
      "1         2           Eve  Laptop       NaN         NaN  2024-04-29  North\n",
      "2         3       Charlie  Laptop       2.0       250.0  2024-01-08    NaN\n",
      "3         4           Eve  Laptop       2.0       750.0  2024-01-07   West\n",
      "4         5           Eve  Tablet       3.0         NaN  2024-03-07  South\n"
     ]
    }
   ],
   "source": [
    "print(raw_data.head())"
   ]
  },
  {
   "cell_type": "code",
   "execution_count": 5,
   "id": "4d928e34",
   "metadata": {},
   "outputs": [
    {
     "name": "stdout",
     "output_type": "stream",
     "text": [
      "   order_id customer_name product  quantity  unit_price  order_date   region\n",
      "0       101         Alice  Laptop       NaN       900.0  2024-05-09  Central\n",
      "1       102           NaN  Laptop       1.0       300.0  2024-05-07  Central\n",
      "2       103           NaN  Laptop       1.0       600.0  2024-05-04  Central\n",
      "3       104           NaN  Tablet       NaN       300.0  2024-05-26  Central\n",
      "4       105         Heidi  Tablet       2.0       600.0  2024-05-21    North\n"
     ]
    }
   ],
   "source": [
    "print(incremental_data.head())"
   ]
  },
  {
   "cell_type": "markdown",
   "id": "683ee90c",
   "metadata": {},
   "source": [
    "- Printing the information of the dataframes"
   ]
  },
  {
   "cell_type": "code",
   "execution_count": null,
   "id": "869f8da1",
   "metadata": {},
   "outputs": [
    {
     "name": "stdout",
     "output_type": "stream",
     "text": [
      "<class 'pandas.core.frame.DataFrame'>\n",
      "RangeIndex: 100 entries, 0 to 99\n",
      "Data columns (total 7 columns):\n",
      " #   Column         Non-Null Count  Dtype  \n",
      "---  ------         --------------  -----  \n",
      " 0   order_id       100 non-null    int64  \n",
      " 1   customer_name  99 non-null     object \n",
      " 2   product        100 non-null    object \n",
      " 3   quantity       74 non-null     float64\n",
      " 4   unit_price     65 non-null     float64\n",
      " 5   order_date     99 non-null     object \n",
      " 6   region         75 non-null     object \n",
      "dtypes: float64(2), int64(1), object(4)\n",
      "memory usage: 5.6+ KB\n",
      "Information of  None\n"
     ]
    }
   ],
   "source": [
    "print(raw_data.info())\n"
   ]
  },
  {
   "cell_type": "code",
   "execution_count": null,
   "id": "77be9979",
   "metadata": {},
   "outputs": [],
   "source": [
    "print(incremental_data.info())"
   ]
  },
  {
   "cell_type": "markdown",
   "id": "48dfaa3f",
   "metadata": {},
   "source": [
    "- Checking for missing values"
   ]
  },
  {
   "cell_type": "code",
   "execution_count": null,
   "id": "cb1234ff",
   "metadata": {},
   "outputs": [
    {
     "name": "stdout",
     "output_type": "stream",
     "text": [
      "Missing values in raw data:\n",
      " order_id          0\n",
      "customer_name     1\n",
      "product           0\n",
      "quantity         26\n",
      "unit_price       35\n",
      "order_date        1\n",
      "region           25\n",
      "dtype: int64\n"
     ]
    }
   ],
   "source": [
    "print(\"Missing values in raw data:\\n\", raw_data.isnull().sum())"
   ]
  },
  {
   "cell_type": "code",
   "execution_count": 12,
   "id": "a07bc83f",
   "metadata": {},
   "outputs": [
    {
     "name": "stdout",
     "output_type": "stream",
     "text": [
      "Missing values in incremental data:\n",
      " order_id         0\n",
      "customer_name    6\n",
      "product          0\n",
      "quantity         4\n",
      "unit_price       0\n",
      "order_date       0\n",
      "region           2\n",
      "dtype: int64\n"
     ]
    }
   ],
   "source": [
    "print(\"Missing values in incremental data:\\n\", incremental_data.isnull().sum())"
   ]
  },
  {
   "cell_type": "markdown",
   "id": "833c2bba",
   "metadata": {},
   "source": [
    "- Checking for duplicates in both data sets"
   ]
  },
  {
   "cell_type": "code",
   "execution_count": 17,
   "id": "4b40a00e",
   "metadata": {},
   "outputs": [
    {
     "name": "stdout",
     "output_type": "stream",
     "text": [
      "Number of duplicate rows: 1\n",
      "Duplicates in raw data:\n",
      "   order_id customer_name product  quantity  unit_price  order_date region\n",
      "5         4           Eve  Laptop       2.0       750.0  2024-01-07   West\n"
     ]
    }
   ],
   "source": [
    "print(\"Number of duplicate rows:\", raw_data.duplicated().sum())\n",
    "print(\"Duplicates in raw data:\")\n",
    "duplicates =raw_data[raw_data.duplicated()]\n",
    "print(duplicates)"
   ]
  },
  {
   "cell_type": "code",
   "execution_count": 18,
   "id": "e6742ab8",
   "metadata": {},
   "outputs": [
    {
     "name": "stdout",
     "output_type": "stream",
     "text": [
      "Number of duplicate rows: 0\n",
      "Duplicates in incremental data:\n",
      "Empty DataFrame\n",
      "Columns: [order_id, customer_name, product, quantity, unit_price, order_date, region]\n",
      "Index: []\n"
     ]
    }
   ],
   "source": [
    "print(\"Number of duplicate rows:\", incremental_data.duplicated().sum())\n",
    "print(\"Duplicates in incremental data:\")\n",
    "duplicates =incremental_data[incremental_data.duplicated()]\n",
    "print(duplicates)"
   ]
  },
  {
   "cell_type": "code",
   "execution_count": 21,
   "id": "27582605",
   "metadata": {},
   "outputs": [],
   "source": [
    "raw_data.to_csv('data/raw_data1.csv', index=False)\n",
    "incremental_data.to_csv('data/incremental_data2.csv', index=False)"
   ]
  }
 ],
 "metadata": {
  "kernelspec": {
   "display_name": "Python 3",
   "language": "python",
   "name": "python3"
  },
  "language_info": {
   "codemirror_mode": {
    "name": "ipython",
    "version": 3
   },
   "file_extension": ".py",
   "mimetype": "text/x-python",
   "name": "python",
   "nbconvert_exporter": "python",
   "pygments_lexer": "ipython3",
   "version": "3.12.0"
  }
 },
 "nbformat": 4,
 "nbformat_minor": 5
}
